{
 "cells": [
  {
   "cell_type": "code",
   "execution_count": 21,
   "metadata": {},
   "outputs": [
    {
     "data": {
      "text/plain": [
       "0.44005967938537205"
      ]
     },
     "execution_count": 21,
     "metadata": {},
     "output_type": "execute_result"
    }
   ],
   "source": [
    "import random\n",
    "\n",
    "random."
   ]
  },
  {
   "cell_type": "code",
   "execution_count": 25,
   "metadata": {},
   "outputs": [
    {
     "name": "stdout",
     "output_type": "stream",
     "text": [
      "{'rep02', 'rep03', 'rep01'}\n"
     ]
    }
   ],
   "source": [
    "conjunto = set()\n",
    "for insert_into in \"rep01\", \"rep02\", \"rep03\":\n",
    "    conjunto.add(insert_into)\n",
    "\n",
    "print(conjunto)"
   ]
  },
  {
   "cell_type": "code",
   "execution_count": 53,
   "metadata": {},
   "outputs": [
    {
     "data": {
      "text/plain": [
       "7"
      ]
     },
     "execution_count": 53,
     "metadata": {},
     "output_type": "execute_result"
    }
   ],
   "source": [
    "nums = [4,-1,2,-7,3,4]\n",
    "\n",
    "def bruteForce(nums):\n",
    "    maxSum = nums[0]\n",
    "    curSum = 0\n",
    "\n",
    "    for n in nums:\n",
    "        curSum = max(curSum, 0)\n",
    "        curSum += n\n",
    "        maxSum = max(maxSum, curSum)\n",
    "        \n",
    "    return maxSum\n",
    "\n",
    "bruteForce(nums)"
   ]
  },
  {
   "cell_type": "code",
   "execution_count": 52,
   "metadata": {},
   "outputs": [
    {
     "data": {
      "text/plain": [
       "0"
      ]
     },
     "execution_count": 52,
     "metadata": {},
     "output_type": "execute_result"
    }
   ],
   "source": [
    "max(-130, 0)"
   ]
  },
  {
   "cell_type": "code",
   "execution_count": 46,
   "metadata": {},
   "outputs": [
    {
     "data": {
      "text/plain": [
       "5"
      ]
     },
     "execution_count": 46,
     "metadata": {},
     "output_type": "execute_result"
    }
   ],
   "source": [
    "def maxSubArraySum(a,size):\n",
    "     \n",
    "    max_so_far = 0\n",
    "    max_ending_here = 0\n",
    "     \n",
    "    for i in range(0, size):\n",
    "        max_ending_here = max_ending_here + a[i]\n",
    "        if max_ending_here < 0:\n",
    "            max_ending_here = 0\n",
    "         \n",
    "        # Do not compare for all elements. Compare only  \n",
    "        # when  max_ending_here > 0\n",
    "        elif (max_so_far < max_ending_here):\n",
    "            max_so_far = max_ending_here\n",
    "             \n",
    "    return max_so_far\n",
    "\n",
    "maxSubArraySum([4,-1,2,-7,3,4],5)"
   ]
  },
  {
   "cell_type": "code",
   "execution_count": 102,
   "metadata": {},
   "outputs": [],
   "source": [
    "# libraries \n",
    "from random import random\n",
    "\n",
    "# class to insert, dropping and random values\n",
    "class OperationValue:\n",
    "\n",
    "    def __init__(self):\n",
    "        self.data = set()\n",
    "\n",
    "\n",
    "    # inserting values with no duplicates \"set()?\"\n",
    "    def insertInto(self, value) -> set:\n",
    "        self.data.add(value)\n",
    "        print('data stored')\n",
    "\n",
    "        return self.data\n",
    "    \n",
    "    # Dropping values\n",
    "    def dropValue(data:set, drop_value) -> set:\n",
    "        try:\n",
    "            data.remove(drop_value)\n",
    "            print('data after removed drop_value')\n",
    "            return data\n",
    "        except Exception as e:\n",
    "            print('the index: ', e, ' was not founded')\n",
    "\n",
    "    # Get random values after inserted\n",
    "    def randomValue(data:set) -> int:\n",
    "        random_value = random(data)\n",
    "\n",
    "        return random_value\n"
   ]
  },
  {
   "cell_type": "code",
   "execution_count": 104,
   "metadata": {},
   "outputs": [
    {
     "name": "stdout",
     "output_type": "stream",
     "text": [
      "data stored\n"
     ]
    },
    {
     "ename": "TypeError",
     "evalue": "OperationValue.dropValue() got multiple values for argument 'data'",
     "output_type": "error",
     "traceback": [
      "\u001b[0;31m---------------------------------------------------------------------------\u001b[0m",
      "\u001b[0;31mTypeError\u001b[0m                                 Traceback (most recent call last)",
      "Cell \u001b[0;32mIn[104], line 7\u001b[0m\n\u001b[1;32m      5\u001b[0m ov \u001b[38;5;241m=\u001b[39m OperationValue()\n\u001b[1;32m      6\u001b[0m dataStored \u001b[38;5;241m=\u001b[39m ov\u001b[38;5;241m.\u001b[39minsertInto(value)\n\u001b[0;32m----> 7\u001b[0m dataRemoved \u001b[38;5;241m=\u001b[39m \u001b[43mov\u001b[49m\u001b[38;5;241;43m.\u001b[39;49m\u001b[43mdropValue\u001b[49m\u001b[43m(\u001b[49m\u001b[43mdata\u001b[49m\u001b[38;5;241;43m=\u001b[39;49m\u001b[43mdataStored\u001b[49m\u001b[43m,\u001b[49m\u001b[43m \u001b[49m\u001b[43mdrop_value\u001b[49m\u001b[38;5;241;43m=\u001b[39;49m\u001b[43mdrop_value\u001b[49m\u001b[43m)\u001b[49m\n\u001b[1;32m      8\u001b[0m dataRand \u001b[38;5;241m=\u001b[39m ov\u001b[38;5;241m.\u001b[39mrandomValue(data\u001b[38;5;241m=\u001b[39mdataRemoved)\n\u001b[1;32m      9\u001b[0m \u001b[38;5;28mprint\u001b[39m(\u001b[38;5;124m'\u001b[39m\u001b[38;5;124mitem chose\u001b[39m\u001b[38;5;124m'\u001b[39m, dataRand)\n",
      "\u001b[0;31mTypeError\u001b[0m: OperationValue.dropValue() got multiple values for argument 'data'"
     ]
    }
   ],
   "source": [
    "value = 2\n",
    "drop_value = 2\n",
    "\n",
    "# exeuting a test\n",
    "ov = OperationValue()\n",
    "dataStored = ov.insertInto(value)\n",
    "dataRemoved = ov.dropValue(data=dataStored, drop_value=drop_value)\n",
    "dataRand = ov.randomValue(data=dataRemoved)\n",
    "print('item chose', dataRand)"
   ]
  },
  {
   "cell_type": "markdown",
   "metadata": {},
   "source": [
    "# 1929"
   ]
  },
  {
   "cell_type": "markdown",
   "metadata": {},
   "source": []
  },
  {
   "cell_type": "code",
   "execution_count": 3,
   "metadata": {},
   "outputs": [],
   "source": [
    "def concat_array(nums):\n",
    "\n",
    "    N = len(nums)\n",
    "    ans = 2*nums\n",
    "\n",
    "    return ans"
   ]
  },
  {
   "cell_type": "code",
   "execution_count": 6,
   "metadata": {},
   "outputs": [
    {
     "data": {
      "text/plain": [
       "[1, 3, 2, 1, 1, 3, 2, 1]"
      ]
     },
     "execution_count": 6,
     "metadata": {},
     "output_type": "execute_result"
    }
   ],
   "source": [
    "ans = []\n",
    "for i in range(2):\n",
    "    for n in nums:\n",
    "        ans.append(n)\n",
    "ans"
   ]
  },
  {
   "cell_type": "code",
   "execution_count": 16,
   "metadata": {},
   "outputs": [
    {
     "data": {
      "text/plain": [
       "[1, 3, 2, 1, 1, 3, 2, 1]"
      ]
     },
     "execution_count": 16,
     "metadata": {},
     "output_type": "execute_result"
    }
   ],
   "source": [
    "ans = []\n",
    "for i in range(2):\n",
    "    for n in nums:\n",
    "        ans.append(n)\n",
    "\n",
    "ans"
   ]
  },
  {
   "cell_type": "code",
   "execution_count": 1,
   "metadata": {},
   "outputs": [
    {
     "data": {
      "text/plain": [
       "230"
      ]
     },
     "execution_count": 1,
     "metadata": {},
     "output_type": "execute_result"
    }
   ],
   "source": [
    "(10*15)+(10*2)+(4*15)"
   ]
  },
  {
   "cell_type": "code",
   "execution_count": 9,
   "metadata": {},
   "outputs": [
    {
     "data": {
      "text/plain": [
       "15.8"
      ]
     },
     "execution_count": 9,
     "metadata": {},
     "output_type": "execute_result"
    }
   ],
   "source": [
    "(10+15+18+20+16)/5"
   ]
  },
  {
   "cell_type": "code",
   "execution_count": 13,
   "metadata": {},
   "outputs": [
    {
     "data": {
      "text/plain": [
       "(164.79999999999998, 248.00000000000003)"
      ]
     },
     "execution_count": 13,
     "metadata": {},
     "output_type": "execute_result"
    }
   ],
   "source": [
    "q1, q3 = 196, 216.8\n",
    "iqr = q3 - q1\n",
    "out_baixo = q1 - iqr*1.5\n",
    "out_alto = q3 + iqr*1.5\n",
    "\n",
    "out_baixo, out_alto"
   ]
  },
  {
   "cell_type": "markdown",
   "metadata": {},
   "source": [
    "1. Two sum"
   ]
  },
  {
   "cell_type": "code",
   "execution_count": 22,
   "metadata": {},
   "outputs": [
    {
     "data": {
      "text/plain": [
       "[1, 3]"
      ]
     },
     "execution_count": 22,
     "metadata": {},
     "output_type": "execute_result"
    }
   ],
   "source": [
    "# Big O(n)\n",
    "nums = [2,1,5,3]\n",
    "\n",
    "class Solution:\n",
    "\n",
    "    def twoSum(nums: list[int], target:int) -> list[int]:\n",
    "        hashMap = {}\n",
    "        for i, n in enumerate(nums):\n",
    "            diff = target - n\n",
    "            if diff in hashMap:\n",
    "                return [hashMap[diff], i]\n",
    "            hashMap[n] = i\n",
    "\n",
    "\n",
    "s = Solution\n",
    "s.twoSum(nums=nums, target=4)"
   ]
  },
  {
   "cell_type": "markdown",
   "metadata": {},
   "source": [
    "146. LRU cache"
   ]
  },
  {
   "cell_type": "code",
   "execution_count": 27,
   "metadata": {},
   "outputs": [],
   "source": [
    "class Node:\n",
    "    def __init__(self, key, val):\n",
    "        self.key, self.val = key, val\n",
    "        self.prev = self.next = None\n",
    "\n",
    "\n",
    "class LRUCache:\n",
    "    def __init__(self, capacity: int):\n",
    "        self.cap = capacity\n",
    "        self.cache = {}  # map key to node\n",
    "\n",
    "        self.left, self.right = Node(0, 0), Node(0, 0)\n",
    "        self.left.next, self.right.prev = self.right, self.left\n",
    "\n",
    "    # remove node from list\n",
    "    def remove(self, node):\n",
    "        prev, nxt = node.prev, node.next\n",
    "        prev.next, nxt.prev = nxt, prev\n",
    "\n",
    "    # insert node at right\n",
    "    def insert(self, node):\n",
    "        prev, nxt = self.right.prev, self.right\n",
    "        prev.next = nxt.prev = node\n",
    "        node.next, node.prev = nxt, prev\n",
    "\n",
    "    def get(self, key: int) -> int:\n",
    "        if key in self.cache:\n",
    "            self.remove(self.cache[key])\n",
    "            self.insert(self.cache[key])\n",
    "            return self.cache[key].val\n",
    "        return -1\n",
    "\n",
    "    def put(self, key: int, value: int) -> None:\n",
    "        if key in self.cache:\n",
    "            self.remove(self.cache[key])\n",
    "        self.cache[key] = Node(key, value)\n",
    "        self.insert(self.cache[key])\n",
    "\n",
    "        if len(self.cache) > self.cap:\n",
    "            # remove from the list and delete the LRU from hashmap\n",
    "            lru = self.left.next\n",
    "            self.remove(lru)\n",
    "            del self.cache[lru.key]"
   ]
  },
  {
   "cell_type": "code",
   "execution_count": 28,
   "metadata": {},
   "outputs": [],
   "source": [
    "key = [\"LRUCache\", \"put\", \"put\", \"get\", \"put\", \"get\", \"put\", \"get\", \"get\", \"get\"]\n",
    "val = [[2],[1,1],[2,2],[1],[3,3],[2],[4,4],[1],[3],[4]]\n",
    "\n",
    "node = Node(key, val)\n",
    "\n",
    "lru = LRUCache()"
   ]
  },
  {
   "cell_type": "markdown",
   "metadata": {},
   "source": [
    "705 Design hashset"
   ]
  },
  {
   "cell_type": "code",
   "execution_count": 31,
   "metadata": {},
   "outputs": [],
   "source": [
    "class ListNode:\n",
    "    def __init__(self, key):\n",
    "        self.key = key\n",
    "        self.next = None\n",
    "\n",
    "class MyHashSet:\n",
    "    def __init__(self) -> None:\n",
    "        self.hashSet = [ListNode(0) for i in range(10**4)]\n",
    "\n",
    "    def add(self, key):\n",
    "        idx = key % len(self.hashSet)\n",
    "        cur = self.hashSet[idx]\n",
    "        while cur.next:\n",
    "            if cur.next.key == key:\n",
    "                return\n",
    "            cur = cur.next\n",
    "        cur.next = ListNode(key)\n",
    "\n",
    "    def contains(self, key):\n",
    "        if idx in self.hashSet:\n",
    "            add()\n",
    "\n",
    "    def remove(self, key):\n",
    "        pass"
   ]
  },
  {
   "cell_type": "code",
   "execution_count": 34,
   "metadata": {},
   "outputs": [],
   "source": [
    "hashset = [ListNode(0) for i in range(10**4)]"
   ]
  },
  {
   "cell_type": "markdown",
   "metadata": {},
   "source": [
    "167 Two sum"
   ]
  },
  {
   "cell_type": "code",
   "execution_count": 28,
   "metadata": {},
   "outputs": [],
   "source": [
    "class Solution:\n",
    "    def twoSum(numbers:list, target:int) -> list:\n",
    "        i = 0\n",
    "        j = len(numbers)-1\n",
    "\n",
    "        while i < j:\n",
    "            _sum = numbers[i] +numbers[j]\n",
    "            if _sum == target:\n",
    "                return[i + 1, j + 1]\n",
    "            \n",
    "            if _sum > target:\n",
    "                j -= 1\n",
    "            else:\n",
    "                i += 1\n",
    "        return []"
   ]
  },
  {
   "cell_type": "code",
   "execution_count": 14,
   "metadata": {},
   "outputs": [],
   "source": [
    "s = Solution\n",
    "numbers = [1,1,1,1,1,2,1,1,1,3]\n",
    "s.twoSum(numbers=numbers, target=5)"
   ]
  },
  {
   "cell_type": "markdown",
   "metadata": {},
   "source": [
    "Testando o OOP"
   ]
  },
  {
   "cell_type": "code",
   "execution_count": 29,
   "metadata": {},
   "outputs": [
    {
     "name": "stdout",
     "output_type": "stream",
     "text": [
      "João está gerenciando o departamento Vendas.\n",
      "Ana está trabalhando no projeto Sistema de RH.\n"
     ]
    }
   ],
   "source": [
    "# Classe base\n",
    "class Funcionario:\n",
    "    def __init__(self, nome, salario):\n",
    "        self._nome = nome\n",
    "        self._salario = salario\n",
    "\n",
    "    @property\n",
    "    def nome(self):\n",
    "        return self._nome\n",
    "\n",
    "    @nome.setter\n",
    "    def nome(self, nome):\n",
    "        self._nome = nome\n",
    "\n",
    "    @property\n",
    "    def salario(self):\n",
    "        return self._salario\n",
    "\n",
    "    @salario.setter\n",
    "    def salario(self, salario):\n",
    "        self._salario = salario\n",
    "\n",
    "    def trabalhar(self):\n",
    "        return f\"{self.nome} está trabalhando...\"\n",
    "\n",
    "# Herança\n",
    "class Gerente(Funcionario):\n",
    "    def __init__(self, nome, salario, departamento):\n",
    "        super().__init__(nome, salario)\n",
    "        self._departamento = departamento\n",
    "\n",
    "    @property\n",
    "    def departamento(self):\n",
    "        return self._departamento\n",
    "\n",
    "    @departamento.setter\n",
    "    def departamento(self, departamento):\n",
    "        self._departamento = departamento\n",
    "\n",
    "    # Polimorfismo\n",
    "    def trabalhar(self):\n",
    "        return f\"{self.nome} está gerenciando o departamento {self.departamento}.\"\n",
    "\n",
    "# Herança\n",
    "class Engenheiro(Funcionario):\n",
    "    def __init__(self, nome, salario, projeto):\n",
    "        super().__init__(nome, salario)\n",
    "        self._projeto = projeto\n",
    "\n",
    "    @property\n",
    "    def projeto(self):\n",
    "        return self._projeto\n",
    "\n",
    "    @projeto.setter\n",
    "    def projeto(self, projeto):\n",
    "        self._projeto = projeto\n",
    "\n",
    "    # Polimorfismo\n",
    "    def trabalhar(self):\n",
    "        return f\"{self.nome} está trabalhando no projeto {self.projeto}.\"\n",
    "\n",
    "# Testando o código\n",
    "gerente = Gerente(\"João\", 9000, \"Vendas\")\n",
    "engenheiro = Engenheiro(\"Ana\", 8000, \"Sistema de RH\")\n",
    "\n",
    "print(gerente.trabalhar())\n",
    "print(engenheiro.trabalhar())"
   ]
  },
  {
   "cell_type": "code",
   "execution_count": 48,
   "metadata": {},
   "outputs": [
    {
     "data": {
      "text/plain": [
       "51.074"
      ]
     },
     "execution_count": 48,
     "metadata": {},
     "output_type": "execute_result"
    }
   ],
   "source": [
    "2.274+(0.00046*100000)+(0.048*100)-(0.00020 * 10000)"
   ]
  },
  {
   "cell_type": "code",
   "execution_count": 36,
   "metadata": {},
   "outputs": [
    {
     "data": {
      "text/plain": [
       "51.074"
      ]
     },
     "execution_count": 36,
     "metadata": {},
     "output_type": "execute_result"
    }
   ],
   "source": [
    "(2.274+(0.00046*100000)+(0.048*100)-(0.00020*10000))"
   ]
  },
  {
   "cell_type": "code",
   "execution_count": 46,
   "metadata": {},
   "outputs": [
    {
     "data": {
      "text/plain": [
       "2274"
      ]
     },
     "execution_count": 46,
     "metadata": {},
     "output_type": "execute_result"
    }
   ],
   "source": [
    "2274\n",
    "# (0.00046*100000)\n",
    "# (0.048*100)\n",
    "# (0.00020*10000)"
   ]
  },
  {
   "cell_type": "markdown",
   "metadata": {},
   "source": [
    "15. 3sum"
   ]
  },
  {
   "cell_type": "code",
   "execution_count": 7,
   "metadata": {},
   "outputs": [],
   "source": [
    "class Solution:\n",
    "    def threeSum(nums:list) -> list:\n",
    "\n",
    "        nums.sort()\n",
    "        result = list()\n",
    "        for idx, v in enumerate(nums):\n",
    "            if idx > 0 and nums[idx -1] == v:\n",
    "                continue\n",
    "\n",
    "            j = idx+1\n",
    "            k = len(nums)-1\n",
    "\n",
    "            while j < k:\n",
    "                _sum = v + nums[j] + nums[k]\n",
    "                if _sum > 0:\n",
    "                    k -= 1\n",
    "                elif _sum < 0:\n",
    "                    j += 1\n",
    "                else: # if sum == 0 is a result\n",
    "                    result.append([v, nums[j], nums[k]])\n",
    "                    j += 1\n",
    "                    while nums[j] == nums[j-1] and j < k:\n",
    "                        j += 1\n",
    "            \n",
    "        return result"
   ]
  },
  {
   "cell_type": "code",
   "execution_count": 8,
   "metadata": {},
   "outputs": [
    {
     "data": {
      "text/plain": [
       "[[-1, -1, 2], [-1, 0, 1]]"
      ]
     },
     "execution_count": 8,
     "metadata": {},
     "output_type": "execute_result"
    }
   ],
   "source": [
    "nums = [-1,0,1,2,-1,-4]\n",
    "s = Solution\n",
    "s.threeSum(nums)"
   ]
  },
  {
   "cell_type": "markdown",
   "metadata": {},
   "source": [
    "242. Anagram"
   ]
  },
  {
   "cell_type": "code",
   "execution_count": 54,
   "metadata": {},
   "outputs": [
    {
     "data": {
      "text/plain": [
       "True"
      ]
     },
     "execution_count": 54,
     "metadata": {},
     "output_type": "execute_result"
    }
   ],
   "source": [
    "class Solution:\n",
    "    def anagram():\n",
    "        t, s = \"anagram\", \"gramana\"\n",
    "        if len(t) != len(s):\n",
    "            return False\n",
    "        \n",
    "        hashT, hashS = {}, {}\n",
    "\n",
    "        # k(letter), v(count of letter)\n",
    "        for i in range(len(s)):\n",
    "            hashS[s[i]] = 1 + hashS.get(s[i], 0)\n",
    "            hashT[t[i]] = 1 + hashT.get(t[i], 0)\n",
    "\n",
    "\n",
    "        for c in hashS:\n",
    "            if hashS[c] != hashT.get(c, 0):\n",
    "                return False\n",
    "\n",
    "        return True\n",
    "\n",
    "Solution.anagram()\n",
    "\n",
    "\n",
    "# Easier solution but could be get a hight time complexity\n",
    "t, s = \"anagAram\", \"gramaana\"\n",
    "sorted(t.lower()) == sorted(s.lower())"
   ]
  }
 ],
 "metadata": {
  "kernelspec": {
   "display_name": ".venv312",
   "language": "python",
   "name": "python3"
  },
  "language_info": {
   "codemirror_mode": {
    "name": "ipython",
    "version": 3
   },
   "file_extension": ".py",
   "mimetype": "text/x-python",
   "name": "python",
   "nbconvert_exporter": "python",
   "pygments_lexer": "ipython3",
   "version": "3.12.2"
  }
 },
 "nbformat": 4,
 "nbformat_minor": 2
}
